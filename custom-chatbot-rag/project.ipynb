{
 "cells": [
  {
   "cell_type": "markdown",
   "id": "124e5672",
   "metadata": {},
   "source": [
    "# Custom Chatbot Project"
   ]
  },
  {
   "cell_type": "markdown",
   "id": "2a4a94b3",
   "metadata": {},
   "source": [
    "TODO: In this cell, write an explanation of which dataset you have chosen and why it is appropriate for this task\n",
    "\n",
    "Choose `nyc_food_scrap_drop_off_sites.csv` dataset. It contains the details info about the nyc food scape drop off which likely not included in the foundation model pretrained dataset, so it's easy to verify it if our custom chatbot actually works with the RAG dataset."
   ]
  },
  {
   "cell_type": "markdown",
   "id": "a63d4c5f",
   "metadata": {},
   "source": [
    "## Data Wrangling\n",
    "\n",
    "TODO: In the cells below, load your chosen dataset into a `pandas` dataframe with a column named `\"text\"`. This column should contain all of your text data, separated into at least 20 rows."
   ]
  },
  {
   "cell_type": "code",
   "execution_count": 59,
   "id": "c69b83a1",
   "metadata": {},
   "outputs": [],
   "source": [
    "import openai\n",
    "import pandas as pd\n",
    "from pathlib import Path\n",
    "\n",
    "openai.api_base = \"https://openai.vocareum.com/v1\"\n",
    "openai.api_key = \"YOUR API KEY\""
   ]
  },
  {
   "cell_type": "code",
   "execution_count": 60,
   "id": "0a595980",
   "metadata": {},
   "outputs": [],
   "source": [
    "filename = \"./data/nyc_food_scrap_drop_off_sites.csv\"\n",
    "df = pd.read_csv(filename)\n",
    "\n",
    "text_columns = [\n",
    "    'borough',\n",
    "    'ntaname',\n",
    "    'food_scrap_drop_off_site',\n",
    "    'location',\n",
    "    'hosted_by',\n",
    "    'open_months',\n",
    "    'operation_day_hours',\n",
    "    'website',\n",
    "    'notes',\n",
    "]\n",
    "\n",
    "df[text_columns] = df[text_columns].fillna('')\n",
    "\n",
    "df['text'] = df.apply(\n",
    "    lambda row: f\"Location: {row['food_scrap_drop_off_site']} in {row['ntaname']}, {row['borough']}. \"\n",
    "                f\"Address: {row['location']}. \"\n",
    "                f\"Hosted by: {row['hosted_by']}. \"\n",
    "                f\"Schedule: Open {row['open_months']}, {row['operation_day_hours']}. \"\n",
    "                f\"Website: {row['website']}\"\n",
    "                f\"Notes: {row['notes']}\",\n",
    "    axis=1  # 'axis=1' tells pandas to apply the function to each row.\n",
    ")\n",
    "\n",
    "text_df = pd.DataFrame(df['text'])"
   ]
  },
  {
   "cell_type": "code",
   "execution_count": 61,
   "id": "acb3a9fd",
   "metadata": {},
   "outputs": [
    {
     "data": {
      "text/plain": [
       "'                                                                                                                                                                                                                                                                                                                                                                                               text\\n0                                                                                                                         Location: South Beach in Grasmere-Arrochar-South Beach-Dongan Hills, Staten Island. Address: 21 Robin Road, Staten Island NY. Hosted by: Snug Harbor Youth. Schedule: Open Year Round, Friday (Start Time: 1:30 PM - End Time:  4:30 PM). Website: snug-harbor.orgNotes: \\n1                                                                   Location: SE Corner of Broadway & Academy Street in Inwood, Manhattan. Address: . Hosted by: Department of Sanitation. Schedule: Open Year Round, 24/7. Website: www.nyc.gov/smartcompostingNotes: Download the app to access bins. Accepts all food scraps, including meat and dairy. Do not leave food scraps outside of bin!\\n2                                                                                                                                                                  Location: Old Stone House Brooklyn in Park Slope, Brooklyn. Address: 336 3rd St, Brooklyn, NY 11215. Hosted by: Old Stone House Brooklyn. Schedule: Open Year Round, 24/7 (Start Time: 24/7 - End Time:  24/7). Website: Notes: \\n3                                                 Location: SE Corner of Pleasant Avenue & E 116 Street in East Harlem (North), Manhattan. Address: . Hosted by: Department of Sanitation. Schedule: Open Year Round, 24/7. Website: www.nyc.gov/smartcompostingNotes: Download the app to access bins. Accepts all food scraps, including meat and dairy. Do not leave food scraps outside of bin!\\n4                                                                                                                                              Location: Malcolm X FSDO in Corona, Queens. Address: 111-26 Northern Blvd, Flushing, NY 11368. Hosted by: NYC Compost Project Hosted by Big Reuse. Schedule: Open Year Round, Tuesdays (Start Time: 12:00 PM - End Time:  2:00 PM). Website: Notes: \\n5                                                                 Location: Astoria Pug: 41st Street in Astoria (North)-Ditmars-Steinway, Queens. Address: Ditmars Boulevard and 41st Street. Hosted by: Astoria Pug. Schedule: Open Year Round, Mondays (Start Time: 8:00 AM - End Time:  2:00 PM). Website: https://www.instagram.com/astoriapug/?hl=enNotes: Not accepted: meat, bones, or dairy\\n6                                                             Location: SE Corner of Kings College Place & Gun Hill Rd. in Norwood, Bronx. Address: . Hosted by: Department of Sanitation. Schedule: Open Year Round, 24/7. Website: www.nyc.gov/smartcompostingNotes: Download the app to access bins. Accepts all food scraps, including meat and dairy. Do not leave food scraps outside of bin!\\n7                                   Location: NW Corner of Malcolm X Boulevard & Bainbridge Street in Bedford-Stuyvesant (East), Brooklyn. Address: . Hosted by: Department of Sanitation. Schedule: Open Year Round, 24/7. Website: www.nyc.gov/smartcompostingNotes: Download the app to access bins. Accepts all food scraps, including meat and dairy. Do not leave food scraps outside of bin!\\n8                                                                                   Location: Astoria Pug: Broadway in Astoria (Central), Queens. Address: 32-11 31st St, Queens, NY 11106. Hosted by: Astoria Pug. Schedule: Open Year Round, Saturdays (Start Time: 9:00 AM - End Time:  3:00 PM). Website: https://www.instagram.com/astoriapug/?hl=enNotes: Not accepted: meat, bones, or dairy\\n9  Location: SE Corner of Eastburn Avenue & East 174th Street in Mount Eden-Claremont (West), Bronx. Address: SE Eastburn Avenue & East 174th Street. Hosted by: Department of Sanitation. Schedule: Open Year Round, 24/7. Website: www.nyc.gov/smartcompostingNotes: Download the app to access bins. Accepts all food scraps, including meat and dairy. Do not leave food scraps outside of bin!'"
      ]
     },
     "execution_count": 61,
     "metadata": {},
     "output_type": "execute_result"
    }
   ],
   "source": [
    "text_df.head(10).to_string()"
   ]
  },
  {
   "cell_type": "code",
   "execution_count": 62,
   "id": "9e1a6add",
   "metadata": {},
   "outputs": [
    {
     "data": {
      "text/html": [
       "<div>\n",
       "<style scoped>\n",
       "    .dataframe tbody tr th:only-of-type {\n",
       "        vertical-align: middle;\n",
       "    }\n",
       "\n",
       "    .dataframe tbody tr th {\n",
       "        vertical-align: top;\n",
       "    }\n",
       "\n",
       "    .dataframe thead th {\n",
       "        text-align: right;\n",
       "    }\n",
       "</style>\n",
       "<table border=\"1\" class=\"dataframe\">\n",
       "  <thead>\n",
       "    <tr style=\"text-align: right;\">\n",
       "      <th></th>\n",
       "      <th>text</th>\n",
       "    </tr>\n",
       "  </thead>\n",
       "  <tbody>\n",
       "    <tr>\n",
       "      <th>0</th>\n",
       "      <td>Location: South Beach in Grasmere-Arrochar-Sou...</td>\n",
       "    </tr>\n",
       "    <tr>\n",
       "      <th>1</th>\n",
       "      <td>Location: SE Corner of Broadway &amp; Academy Stre...</td>\n",
       "    </tr>\n",
       "    <tr>\n",
       "      <th>2</th>\n",
       "      <td>Location: Old Stone House Brooklyn in Park Slo...</td>\n",
       "    </tr>\n",
       "    <tr>\n",
       "      <th>3</th>\n",
       "      <td>Location: SE Corner of Pleasant Avenue &amp; E 116...</td>\n",
       "    </tr>\n",
       "    <tr>\n",
       "      <th>4</th>\n",
       "      <td>Location: Malcolm X FSDO in Corona, Queens. Ad...</td>\n",
       "    </tr>\n",
       "    <tr>\n",
       "      <th>...</th>\n",
       "      <td>...</td>\n",
       "    </tr>\n",
       "    <tr>\n",
       "      <th>571</th>\n",
       "      <td>Location: Albemarle Road and McDonald Avenue i...</td>\n",
       "    </tr>\n",
       "    <tr>\n",
       "      <th>572</th>\n",
       "      <td>Location: NW Corner of 21st Street &amp; 30th Driv...</td>\n",
       "    </tr>\n",
       "    <tr>\n",
       "      <th>573</th>\n",
       "      <td>Location: Rochester Avenue &amp; St. Johns Place i...</td>\n",
       "    </tr>\n",
       "    <tr>\n",
       "      <th>574</th>\n",
       "      <td>Location: *CLOSED FOR THE SEASON* East 4th Str...</td>\n",
       "    </tr>\n",
       "    <tr>\n",
       "      <th>575</th>\n",
       "      <td>Location: Community Access - Davidson Ave in U...</td>\n",
       "    </tr>\n",
       "  </tbody>\n",
       "</table>\n",
       "<p>576 rows × 1 columns</p>\n",
       "</div>"
      ],
      "text/plain": [
       "                                                  text\n",
       "0    Location: South Beach in Grasmere-Arrochar-Sou...\n",
       "1    Location: SE Corner of Broadway & Academy Stre...\n",
       "2    Location: Old Stone House Brooklyn in Park Slo...\n",
       "3    Location: SE Corner of Pleasant Avenue & E 116...\n",
       "4    Location: Malcolm X FSDO in Corona, Queens. Ad...\n",
       "..                                                 ...\n",
       "571  Location: Albemarle Road and McDonald Avenue i...\n",
       "572  Location: NW Corner of 21st Street & 30th Driv...\n",
       "573  Location: Rochester Avenue & St. Johns Place i...\n",
       "574  Location: *CLOSED FOR THE SEASON* East 4th Str...\n",
       "575  Location: Community Access - Davidson Ave in U...\n",
       "\n",
       "[576 rows x 1 columns]"
      ]
     },
     "execution_count": 62,
     "metadata": {},
     "output_type": "execute_result"
    }
   ],
   "source": [
    "text_df"
   ]
  },
  {
   "cell_type": "markdown",
   "id": "ae769871",
   "metadata": {},
   "source": [
    "## Custom Query Completion\n",
    "\n",
    "TODO: In the cells below, compose a custom query using your chosen dataset and retrieve results from an OpenAI `Completion` model. You may copy and paste any useful code from the course materials."
   ]
  },
  {
   "cell_type": "code",
   "execution_count": 63,
   "id": "582f0656",
   "metadata": {},
   "outputs": [
    {
     "data": {
      "text/html": [
       "<div>\n",
       "<style scoped>\n",
       "    .dataframe tbody tr th:only-of-type {\n",
       "        vertical-align: middle;\n",
       "    }\n",
       "\n",
       "    .dataframe tbody tr th {\n",
       "        vertical-align: top;\n",
       "    }\n",
       "\n",
       "    .dataframe thead th {\n",
       "        text-align: right;\n",
       "    }\n",
       "</style>\n",
       "<table border=\"1\" class=\"dataframe\">\n",
       "  <thead>\n",
       "    <tr style=\"text-align: right;\">\n",
       "      <th></th>\n",
       "      <th>text</th>\n",
       "      <th>embeddings</th>\n",
       "    </tr>\n",
       "  </thead>\n",
       "  <tbody>\n",
       "    <tr>\n",
       "      <th>0</th>\n",
       "      <td>Location: South Beach in Grasmere-Arrochar-Sou...</td>\n",
       "      <td>[0.008268075995147228, -0.013524645939469337, ...</td>\n",
       "    </tr>\n",
       "    <tr>\n",
       "      <th>1</th>\n",
       "      <td>Location: SE Corner of Broadway &amp; Academy Stre...</td>\n",
       "      <td>[0.011617721058428288, 0.004530502017587423, -...</td>\n",
       "    </tr>\n",
       "    <tr>\n",
       "      <th>2</th>\n",
       "      <td>Location: Old Stone House Brooklyn in Park Slo...</td>\n",
       "      <td>[0.017113445326685905, -0.03115324303507805, 0...</td>\n",
       "    </tr>\n",
       "    <tr>\n",
       "      <th>3</th>\n",
       "      <td>Location: SE Corner of Pleasant Avenue &amp; E 116...</td>\n",
       "      <td>[0.016948765143752098, 0.0033342379610985518, ...</td>\n",
       "    </tr>\n",
       "    <tr>\n",
       "      <th>4</th>\n",
       "      <td>Location: Malcolm X FSDO in Corona, Queens. Ad...</td>\n",
       "      <td>[0.002668992383405566, -0.023985659703612328, ...</td>\n",
       "    </tr>\n",
       "    <tr>\n",
       "      <th>...</th>\n",
       "      <td>...</td>\n",
       "      <td>...</td>\n",
       "    </tr>\n",
       "    <tr>\n",
       "      <th>571</th>\n",
       "      <td>Location: Albemarle Road and McDonald Avenue i...</td>\n",
       "      <td>[0.024264298379421234, -0.007152635138481855, ...</td>\n",
       "    </tr>\n",
       "    <tr>\n",
       "      <th>572</th>\n",
       "      <td>Location: NW Corner of 21st Street &amp; 30th Driv...</td>\n",
       "      <td>[0.020397387444972992, -0.0006399444537237287,...</td>\n",
       "    </tr>\n",
       "    <tr>\n",
       "      <th>573</th>\n",
       "      <td>Location: Rochester Avenue &amp; St. Johns Place i...</td>\n",
       "      <td>[0.01732088439166546, -0.0033952868543565273, ...</td>\n",
       "    </tr>\n",
       "    <tr>\n",
       "      <th>574</th>\n",
       "      <td>Location: *CLOSED FOR THE SEASON* East 4th Str...</td>\n",
       "      <td>[0.012309753336012363, -0.020065300166606903, ...</td>\n",
       "    </tr>\n",
       "    <tr>\n",
       "      <th>575</th>\n",
       "      <td>Location: Community Access - Davidson Ave in U...</td>\n",
       "      <td>[0.004989684093743563, -0.023287411779165268, ...</td>\n",
       "    </tr>\n",
       "  </tbody>\n",
       "</table>\n",
       "<p>576 rows × 2 columns</p>\n",
       "</div>"
      ],
      "text/plain": [
       "                                                  text  \\\n",
       "0    Location: South Beach in Grasmere-Arrochar-Sou...   \n",
       "1    Location: SE Corner of Broadway & Academy Stre...   \n",
       "2    Location: Old Stone House Brooklyn in Park Slo...   \n",
       "3    Location: SE Corner of Pleasant Avenue & E 116...   \n",
       "4    Location: Malcolm X FSDO in Corona, Queens. Ad...   \n",
       "..                                                 ...   \n",
       "571  Location: Albemarle Road and McDonald Avenue i...   \n",
       "572  Location: NW Corner of 21st Street & 30th Driv...   \n",
       "573  Location: Rochester Avenue & St. Johns Place i...   \n",
       "574  Location: *CLOSED FOR THE SEASON* East 4th Str...   \n",
       "575  Location: Community Access - Davidson Ave in U...   \n",
       "\n",
       "                                            embeddings  \n",
       "0    [0.008268075995147228, -0.013524645939469337, ...  \n",
       "1    [0.011617721058428288, 0.004530502017587423, -...  \n",
       "2    [0.017113445326685905, -0.03115324303507805, 0...  \n",
       "3    [0.016948765143752098, 0.0033342379610985518, ...  \n",
       "4    [0.002668992383405566, -0.023985659703612328, ...  \n",
       "..                                                 ...  \n",
       "571  [0.024264298379421234, -0.007152635138481855, ...  \n",
       "572  [0.020397387444972992, -0.0006399444537237287,...  \n",
       "573  [0.01732088439166546, -0.0033952868543565273, ...  \n",
       "574  [0.012309753336012363, -0.020065300166606903, ...  \n",
       "575  [0.004989684093743563, -0.023287411779165268, ...  \n",
       "\n",
       "[576 rows x 2 columns]"
      ]
     },
     "execution_count": 63,
     "metadata": {},
     "output_type": "execute_result"
    }
   ],
   "source": [
    "EMBEDDING_MODEL_NAME = \"text-embedding-ada-002\"\n",
    "batch_size = 100\n",
    "embeddings = []\n",
    "for i in range(0, len(text_df), batch_size):\n",
    "    # Send text data to OpenAI model to get embeddings\n",
    "    response = openai.Embedding.create(\n",
    "        input=df.iloc[i:i+batch_size][\"text\"].tolist(),\n",
    "        engine=EMBEDDING_MODEL_NAME\n",
    "    )\n",
    "    \n",
    "    # Add embeddings to list\n",
    "    embeddings.extend([data[\"embedding\"] for data in response[\"data\"]])\n",
    "\n",
    "# Add embeddings list to dataframe\n",
    "text_df[\"embeddings\"] = embeddings\n",
    "text_df"
   ]
  },
  {
   "cell_type": "code",
   "execution_count": 64,
   "id": "8b6e1f75",
   "metadata": {},
   "outputs": [],
   "source": [
    "text_df.to_csv(\"./data/embeddings.csv\")"
   ]
  },
  {
   "cell_type": "code",
   "execution_count": 65,
   "id": "13f2dcd7",
   "metadata": {},
   "outputs": [
    {
     "name": "stdout",
     "output_type": "stream",
     "text": [
      "2023_fashion_trends.csv     embeddings.csv\r\n",
      "character_descriptions.csv  nyc_food_scrap_drop_off_sites.csv\r\n"
     ]
    }
   ],
   "source": [
    "! ls ./data"
   ]
  },
  {
   "cell_type": "code",
   "execution_count": 66,
   "id": "c403f543",
   "metadata": {},
   "outputs": [],
   "source": [
    "# find related pieces of the text for a given question\n",
    "from openai.embeddings_utils import get_embedding, distances_from_embeddings\n",
    "\n",
    "def get_rows_sorted_by_relevance(question, text_df):\n",
    "    \"\"\"\n",
    "    Function that takes in a question string and a dataframe containing\n",
    "    rows of text and associated embeddings, and returns that dataframe\n",
    "    sorted from least to most relevant for that question\n",
    "    \"\"\"\n",
    "    \n",
    "    # Get embeddings for the question text\n",
    "    question_embeddings = get_embedding(question, engine=EMBEDDING_MODEL_NAME)\n",
    "    \n",
    "    # Make a copy of the dataframe and add a \"distances\" column containing\n",
    "    # the cosine distances between each row's embeddings and the\n",
    "    # embeddings of the question\n",
    "    text_df_copy = text_df.copy()\n",
    "    text_df_copy[\"distances\"] = distances_from_embeddings(\n",
    "        question_embeddings,\n",
    "        text_df_copy[\"embeddings\"].values,\n",
    "        distance_metric=\"cosine\"\n",
    "    )\n",
    "    \n",
    "    # Sort the copied dataframe by the distances and return it\n",
    "    # (shorter distance = more relevant so we sort in ascending order)\n",
    "    text_df_copy.sort_values(\"distances\", ascending=True, inplace=True)\n",
    "    return text_df_copy"
   ]
  },
  {
   "cell_type": "code",
   "execution_count": 67,
   "id": "74280b92",
   "metadata": {},
   "outputs": [],
   "source": [
    "custom_anwsers = get_rows_sorted_by_relevance(\"I live in Manhattan area, want to find food drop off sites that operate 24/7\", text_df)\n"
   ]
  },
  {
   "cell_type": "code",
   "execution_count": 68,
   "id": "bb63d35e",
   "metadata": {},
   "outputs": [
    {
     "data": {
      "text/plain": [
       "'                                                                                                                                                                                                                                                                                                                                                                                  text                                                                                                                                                                                                                                                                                                                                                                                                                                                                                                                                                                                                                                                                                                                                                                                                                                                                                                                                                                                                                                                                                                                                                                                                                                                                                                                                                                                                                                                                                                                                                                                                                                                                                                                                                                                                                                                                                                                                                                                                                                                                                                                                                                                                                                                                                                                                      embeddings  distances\\n165                                                                     Location: Madison Square Park Food Scrap Drop-off in Midtown South-Flatiron-Union Square, Manhattan. Address: 23rd St & Broadway. Hosted by: GrowNYC. Schedule: Open Year Round, Wednesdays (Start Time: 8:00 AM - End Time:  1:00 PM). Website: grownyc.org/compostNotes: Not accepted: meat, bones, or dairy  [-0.0022687381133437157, -0.024324340745806694, 0.01206882018595934, -0.016682976856827736, -0.010748584754765034, 0.003563969163224101, -0.014362562447786331, -0.007474666927009821, -0.0501689538359642, -0.005684347823262215, 0.045634809881448746, 0.009194973856210709, -0.008334820158779621, 0.022163955494761467, -0.04083395376801491, -0.007768052630126476, 0.009528366848826408, 0.004930879920721054, 0.0060677495785057545, -0.011462044902145863, -0.02131046913564205, 0.01275560911744833, 0.00012064653128618374, -0.0059844013303518295, 0.008688217028975487, 0.026258017867803574, 0.029178539291024208, -0.01318901963531971, -0.0013960824580863118, -0.016056198626756668, 0.00412406912073493, -0.01963016949594021, -0.016709648072719574, -0.014842648059129715, 0.003278918331488967, 0.0050942422822117805, -0.009321663528680801, -0.0027954988181591034, 0.013295705430209637, -0.028378397226333618, 0.01470929104834795, -0.01967017725110054, 0.007748049218207598, 0.0033289273269474506, -0.01053521316498518, 0.03323259577155113, 0.002263737376779318, -0.004107399377971888, -0.028031667694449425, 0.030272068455815315, 0.004897540435194969, -0.0032922541722655296, -0.013202356174588203, -2.3715168936178088e-05, -0.008241470903158188, -0.002932189963757992, 0.003647317411378026, 0.027631597593426704, 0.004087395966053009, -0.021417155861854553, -0.0031038871966302395, -0.016989698633551598, -0.030272068455815315, 0.014322555623948574, -0.00722128851339221, -0.029925338923931122, -0.007601356599479914, -0.010888610035181046, -0.01122200209647417, -0.0012760610552504659, 0.03461951017379761, -0.0019336784025654197, 0.006697861943393946, -0.011088645085692406, 0.002990533597767353, 0.002918854122981429, -0.005500981584191322, 0.013502409681677818, 0.00013835802383255213, 0.006494492292404175, 0.0032005710527300835, -0.0259779691696167, -0.02327081933617592, 0.044727981090545654, 0.014215869829058647, -0.006777876056730747, 0.002060367725789547, 0.035953082144260406, 0.008614870719611645, -0.003013871144503355, 0.014349226839840412, 0.018576648086309433, 0.015136034227907658, 0.006981245707720518, -0.03712662309408188, 0.008508184924721718, -0.01334238052368164, 0.03560635447502136, -0.013922484591603279, 0.0014735963195562363, ...]   0.150224\\n105                        Location: NW Corner of W 126 Street & Morningside Avenue in Manhattanville-West Harlem, Manhattan. Address: . Hosted by: Department of Sanitation. Schedule: Open Year Round, 24/7. Website: www.nyc.gov/smartcompostingNotes: Download the app to access bins. Accepts all food scraps, including meat and dairy. Do not leave food scraps outside of bin!              [0.013837440870702267, 0.0038475000765174627, -0.0004478862974792719, -0.016922220587730408, -0.007844153791666031, 0.0025305363815277815, 0.01298319362103939, 0.001430524280294776, -0.02839353308081627, -0.005861081648617983, 0.014834062196314335, 0.01913241483271122, -0.00747804855927825, 0.013939136639237404, -0.03566141054034233, -0.02250872179865837, 0.017667992040514946, 0.009484849870204926, -0.0011779790511354804, -0.02039344422519207, -0.03381732106208801, 0.01761375367641449, 0.004372929688543081, -0.01787138357758522, 0.01281370036303997, 0.011111986823379993, 0.015728987753391266, -0.015159488655626774, -0.012800141237676144, -0.018264608457684517, -0.0012457764241844416, -0.020596837624907494, -0.02147820219397545, -0.02444772608578205, -0.004857680760324001, 0.023959586396813393, 0.01701713725924492, -0.004118689335882664, 0.002359348116442561, -0.030156264081597328, 0.025640960782766342, -0.00021843460854142904, -0.0003788177273236215, 0.01319336611777544, -0.022373128682374954, 0.040841128677129745, 0.0031356278341263533, 0.0033051210921257734, -0.02603418566286564, 0.00796618964523077, 0.011647585779428482, -0.0017661211313679814, -0.007511947304010391, -0.005827182903885841, -0.010745881125330925, 0.007776356767863035, -0.012291660532355309, 0.019783269613981247, -0.010895035229623318, -0.01555271353572607, 0.006369561888277531, -0.019864626228809357, -0.0353902205824852, 0.0017406971892341971, -0.011606907472014427, -0.028339294716715813, -0.02907150611281395, -0.00045720842899754643, -0.012712004594504833, 0.006264475639909506, 0.05290905758738518, -0.01255607046186924, 0.020868025720119476, -0.011830639094114304, 0.009159422479569912, 0.00596616743132472, -0.01709849387407303, 0.015891700983047485, 0.01475270465016365, -0.006579733453691006, -0.001418659696355462, -0.025925708934664726, -0.022793471813201904, 0.04474625736474991, 0.009111965075135231, -0.001211877795867622, 0.007837374694645405, 0.031566448509693146, 2.813855246586172e-07, 0.017396802082657814, 0.00919332168996334, 0.016705268993973732, 0.01360692922025919, 0.0071594007313251495, -0.031403735280036926, 0.014589991420507431, -0.00659329304471612, 0.025912150740623474, 0.0031796961557120085, 0.005006834864616394, ...]   0.151002\\n414                                  Location: NW Corner of W 133 Street & Broadway in Manhattanville-West Harlem, Manhattan. Address: . Hosted by: Department of Sanitation. Schedule: Open Year Round, 24/7. Website: www.nyc.gov/smartcompostingNotes: Download the app to access bins. Accepts all food scraps, including meat and dairy. Do not leave food scraps outside of bin!           [0.015340081416070461, -0.004143312573432922, -0.006467362400144339, -0.019879769533872604, -0.008130785077810287, -0.0028694896027445793, 0.00948591623455286, -0.000957061187364161, -0.030002597719430923, -0.008699940517544746, 0.024649830535054207, 0.01859239675104618, -0.007283828686922789, 0.01824006251990795, -0.03341752663254738, -0.020692849531769753, 0.015096157789230347, 0.006951821502298117, -0.000615737575571984, -0.02267134003341198, -0.035856764763593674, 0.01986621879041195, 0.004729406908154488, -0.021207798272371292, 0.009919557720422745, 0.011261138133704662, 0.01867370307445526, -0.012053889222443104, -0.008361157961189747, -0.015489146113395691, -0.005498443730175495, -0.01714240573346615, -0.01918865367770195, -0.02348441816866398, -0.0015168996760621667, 0.020679296925663948, 0.009458813816308975, -0.004058617167174816, 0.0039434307254850864, -0.021221349015831947, 0.021302657201886177, -0.0012450264766812325, 0.00035042836680077016, 0.017928382381796837, -0.02137041464447975, 0.034718453884124756, 0.0015795744257047772, 0.000279072264675051, -0.026140475645661354, 0.007595508825033903, 0.012948275543749332, -0.0015999014722183347, -0.008747369982302189, -0.0033505612518638372, -0.012189402244985104, 0.004546463955193758, -0.010251564905047417, 0.015272324904799461, -0.009113254956901073, -0.018063895404338837, 0.0023121919948607683, -0.016776520758867264, -0.0375642292201519, 0.0029253887478262186, -0.013605514541268349, -0.035450223833322525, -0.02458207495510578, 0.00535615487024188, -0.016776520758867264, 0.012670474126935005, 0.0495435856282711, -0.009790821000933647, 0.01660035364329815, -0.008937087841331959, 0.01072586141526699, 0.005268071312457323, -0.012582390569150448, 0.017033996060490608, 0.015204568393528461, -0.004634547512978315, -0.0015753397019580007, -0.02599141001701355, -0.017806420102715492, 0.03997636213898659, 0.013334487564861774, -0.0006860350258648396, 0.0060066175647079945, 0.03284837305545807, 0.001961552072316408, 0.012623044662177563, 0.008964191190898418, 0.01886342279613018, 0.011952254921197891, 0.007541303522884846, -0.029514750465750694, 0.011891273781657219, -0.009384281001985073, 0.03160165250301361, 0.00399424834176898, 0.003418317763134837, ...]   0.151409\\n98   Location: NW Corner of West 133 Street & Broadway in Manhattanville-West Harlem, Manhattan. Address: NW West 133 Street & Broadway. Hosted by: Department of Sanitation. Schedule: Open Year Round, 24/7. Website: www.nyc.gov/smartcompostingNotes: Download the app to access bins. Accepts all food scraps, including meat and dairy. Do not leave food scraps outside of bin!                [0.018726332113146782, -0.004947085399180651, -0.009322836063802242, -0.018981751054525375, -0.004842900671064854, -0.0009737893706187606, 0.009134631603956223, -0.0007368535734713078, -0.036215890198946, -0.008738058619201183, 0.02273239567875862, 0.016803959384560585, -0.005057991482317448, 0.01840369589626789, -0.03301641717553139, -0.016373777762055397, 0.013691865839064121, 0.004207711201161146, 0.002723921788856387, -0.0217241570353508, -0.037103138864040375, 0.021845145151019096, 0.0024903465528041124, -0.02421114407479763, 0.008959870785474777, 0.01299954205751419, 0.019774898886680603, -0.009336279705166817, -0.0029558162204921246, -0.01155440229922533, -0.00834148470312357, -0.015741948038339615, -0.017825638875365257, -0.020460499450564384, -0.0011493907077237964, 0.014263199642300606, 0.008885933086276054, -0.005474729463458061, 0.0037506434600800276, -0.017086265608668327, 0.0162931177765131, -0.004671500530093908, -0.00010140139056602493, 0.01840369589626789, -0.02458755299448967, 0.03333905339241028, -0.0025373976677656174, -0.0033775956835597754, -0.028123104944825172, 0.012502145022153854, 0.01117799337953329, 0.002355915028601885, -0.006775355897843838, 0.000584357650950551, -0.012818059884011745, 0.005118485540151596, -0.007393741514533758, 0.019075853750109673, -0.006977003533393145, -0.018282707780599594, 0.0012527351500466466, -0.014935358427464962, -0.03661918640136719, 0.0032330816611647606, -0.021240202710032463, -0.03796350210905075, -0.021146101877093315, 0.007770150434225798, -0.01916995644569397, 0.012925605289638042, 0.049336422234773636, -0.008166723884642124, 0.016871174797415733, -0.007884417660534382, 0.01481436938047409, 0.00938333012163639, -0.00733324745669961, 0.018228935077786446, 0.015526857227087021, -0.0001892545842565596, 0.0040329499170184135, -0.027746696025133133, -0.015822608023881912, 0.04382472485303879, 0.018228935077786446, -0.003224679734557867, 0.00321459723636508, 0.029386762529611588, 0.0024701817892491817, 0.01500257384032011, 0.010391567833721638, 0.013967450708150864, 0.010048767551779747, 0.0011603133752942085, -0.02388850785791874, 0.007884417660534382, -0.0144782904535532, 0.03538241609930992, 0.000888929411303252, 0.005202505737543106, ...]   0.153279\\n241                          Location: NE Corner of Amsterdam Avenue & W 133 Street in Manhattanville-West Harlem, Manhattan. Address: . Hosted by: Department of Sanitation. Schedule: Open Year Round, 24/7. Website: www.nyc.gov/smartcompostingNotes: Download the app to access bins. Accepts all food scraps, including meat and dairy. Do not leave food scraps outside of bin!                       [0.014113103039562702, -0.007596249226480722, -0.008054993115365505, -0.01853862591087818, -0.010078860446810722, -0.0004633813223335892, 0.007832366973161697, 0.001743899192661047, -0.027632538229227066, -0.00928955152630806, 0.017175888642668724, 0.0130404531955719, -0.005042803008109331, 0.018241792917251587, -0.03729313239455223, -0.024812616407871246, 0.019820408895611763, 0.011583268642425537, -0.006442645099014044, -0.02288319543004036, -0.037212178111076355, 0.01875450648367405, 0.004526717122644186, -0.014855187386274338, 0.015421870164573193, 0.015192498452961445, 0.01965850032866001, -0.01667666807770729, -0.009680832736194134, -0.016798099502921104, -0.006128945387899876, -0.01799892820417881, -0.018821967765688896, -0.02680949866771698, -0.0034743058495223522, 0.02830716036260128, 0.010618558153510094, 0.0023510593455284834, 0.010847929865121841, -0.0194696057587862, 0.023679248988628387, -0.004685253370553255, -0.004408658016473055, 0.01285155862569809, -0.023004626855254173, 0.034756552428007126, 0.001953032100573182, 0.0011021645041182637, -0.027632538229227066, 0.010024890303611755, 0.014598830603063107, 0.0016983621753752232, -0.012615440413355827, -0.007016073912382126, -0.014086117967963219, 0.006014259532094002, -0.017391767352819443, 0.013559912331402302, -0.013364272192120552, -0.017283828929066658, 0.0010810826206579804, -0.01762113906443119, -0.03923604637384415, 0.0086284214630723, -0.01397817861288786, -0.03659152612090111, -0.026701558381319046, 0.006715867202728987, -0.011272941716015339, 0.008722868748009205, 0.05289040505886078, -0.012015026994049549, 0.013418241403996944, -0.010996346361935139, 0.005730918142944574, 0.006914880592375994, -0.006763090379536152, 0.016798099502921104, 0.013310302048921585, -0.0011249330127611756, -0.004152301698923111, -0.01984739489853382, -0.027133317664265633, 0.0405043363571167, 0.015273453667759895, 0.006766463629901409, 0.009060179814696312, 0.030870726332068443, 0.0023308207746595144, 0.011495567858219147, 0.007272430695593357, 0.017351290211081505, 0.009680832736194134, 0.008122455328702927, -0.034837506711483, 0.01283132005482912, -0.009114149957895279, 0.030411982908844948, 0.0012488949578255415, 0.005157488863915205, ...]   0.153837'"
      ]
     },
     "execution_count": 68,
     "metadata": {},
     "output_type": "execute_result"
    }
   ],
   "source": [
    "custom_anwsers.head(5).to_string()\n",
    "# print(custom_anwsers.head(5))"
   ]
  },
  {
   "cell_type": "markdown",
   "id": "1783f146",
   "metadata": {},
   "source": [
    "## Custom Performance Demonstration\n",
    "\n",
    "TODO: In the cells below, demonstrate the performance of your custom query using at least 2 questions. For each question, show the answer from a basic `Completion` model query as well as the answer from your custom query."
   ]
  },
  {
   "cell_type": "markdown",
   "id": "4f11fdc0",
   "metadata": {},
   "source": [
    "### Question 1"
   ]
  },
  {
   "cell_type": "code",
   "execution_count": 69,
   "id": "4901c850",
   "metadata": {},
   "outputs": [],
   "source": [
    "import tiktoken\n",
    "\n",
    "def create_prompt(question, df, max_token_count):\n",
    "    \"\"\"\n",
    "    Given a question and a dataframe containing rows of text and their\n",
    "    embeddings, return a text prompt to send to a Completion model\n",
    "    \"\"\"\n",
    "    # Create a tokenizer that is designed to align with our embeddings\n",
    "    tokenizer = tiktoken.get_encoding(\"cl100k_base\")\n",
    "    \n",
    "    # Count the number of tokens in the prompt template and question\n",
    "    prompt_template = \"\"\"\n",
    "Answer the question based on the context below, and if the question\n",
    "can't be answered based on the context, say \"I don't know\"\n",
    "\n",
    "Context: \n",
    "\n",
    "{}\n",
    "\n",
    "---\n",
    "\n",
    "Question: {}\n",
    "Answer:\"\"\"\n",
    "    \n",
    "    current_token_count = len(tokenizer.encode(prompt_template)) + \\\n",
    "                            len(tokenizer.encode(question))\n",
    "    \n",
    "    context = []\n",
    "    for text in get_rows_sorted_by_relevance(question, df)[\"text\"].values:\n",
    "        \n",
    "        # Increase the counter based on the number of tokens in this row\n",
    "        text_token_count = len(tokenizer.encode(text))\n",
    "        current_token_count += text_token_count\n",
    "        \n",
    "        # Add the row of text to the list if we haven't exceeded the max\n",
    "        if current_token_count <= max_token_count:\n",
    "            context.append(text)\n",
    "        else:\n",
    "            break\n",
    "\n",
    "    return prompt_template.format(\"\\n\\n###\\n\\n\".join(context), question)"
   ]
  },
  {
   "cell_type": "code",
   "execution_count": 70,
   "id": "bd7a093b",
   "metadata": {},
   "outputs": [
    {
     "name": "stdout",
     "output_type": "stream",
     "text": [
      "\n",
      "Answer the question based on the context below, and if the question\n",
      "can't be answered based on the context, say \"I don't know\"\n",
      "\n",
      "Context: \n",
      "\n",
      "\n",
      "\n",
      "---\n",
      "\n",
      "Question: I want to find the food scrape dropoff site hosted by Snug Harbor Youth in Staten Island borough, what's the location and if they accept meat and diary?\n",
      "Answer:\n"
     ]
    }
   ],
   "source": [
    "print(create_prompt(\"I want to find the food scrape dropoff site hosted by Snug Harbor Youth in Staten Island borough, what's the location and if they accept meat and diary?\", text_df, 50))"
   ]
  },
  {
   "cell_type": "code",
   "execution_count": 71,
   "id": "c2d8f38b",
   "metadata": {},
   "outputs": [],
   "source": [
    "COMPLETION_MODEL_NAME = \"gpt-3.5-turbo-instruct\"\n",
    "\n",
    "def answer_question(\n",
    "    question, df, max_prompt_tokens=1800, max_answer_tokens=150\n",
    "):\n",
    "    \"\"\"\n",
    "    Given a question, a dataframe containing rows of text, and a maximum\n",
    "    number of desired tokens in the prompt and response, return the\n",
    "    answer to the question according to an OpenAI Completion model\n",
    "    \n",
    "    If the model produces an error, return an empty string\n",
    "    \"\"\"\n",
    "    \n",
    "    prompt = create_prompt(question, df, max_prompt_tokens)\n",
    "    \n",
    "    try:\n",
    "        response = openai.Completion.create(\n",
    "            model=COMPLETION_MODEL_NAME,\n",
    "            prompt=prompt,\n",
    "            max_tokens=max_answer_tokens\n",
    "        )\n",
    "        return response[\"choices\"][0][\"text\"].strip()\n",
    "    except Exception as e:\n",
    "        print(e)\n",
    "        return \"\""
   ]
  },
  {
   "cell_type": "code",
   "execution_count": 72,
   "id": "31220e11",
   "metadata": {},
   "outputs": [
    {
     "name": "stdout",
     "output_type": "stream",
     "text": [
      "There are six common locations for food scrap dropoff sites hosted by Snug Harbor Youth, but most of them are closed for the season. One of the open year round locations is at the Venture House in Port Richmond, Staten Island at 1442 Castleton Avenue. However, they do not accept meat or dairy.\n"
     ]
    }
   ],
   "source": [
    "question1 = \"I want to find the food scrape dropoff site hosted by Snug Harbor Youth in Staten Island borough, what's the location and if they accept meat and diary?\"\n",
    "custom_answer1 = answer_question(question1, text_df)\n",
    "print(custom_answer1)"
   ]
  },
  {
   "cell_type": "code",
   "execution_count": 73,
   "id": "3a3471ee",
   "metadata": {},
   "outputs": [
    {
     "name": "stdout",
     "output_type": "stream",
     "text": [
      "Unfortunately, I was unable to find information specifically about a food scrape dropoff site hosted by Snug Harbor Youth in Staten Island borough. Here are a few options for finding this information:\n",
      "\n",
      "1. Contact Snug Harbor Youth directly. The organization's contact information can likely be found on their website or social media pages. They will be able to provide you with more information about their food scrape dropoff site.\n",
      "\n",
      "2. Check the Staten Island borough government website. They may have information about food scrape dropoff sites in the area, including any hosted by Snug Harbor Youth.\n",
      "\n",
      "3. Reach out to local community organizations or composting companies. They may be aware of any food scrape dropoff sites in the area and their policies on accepting meat and dairy.\n"
     ]
    }
   ],
   "source": [
    "original_prompt = f\"\"\"\n",
    "Question: \":{question1}\"\n",
    "Answer:\n",
    "\"\"\"\n",
    "original_answer1 = openai.Completion.create(\n",
    "    model=\"gpt-3.5-turbo-instruct\",\n",
    "    prompt=original_prompt,\n",
    "    max_tokens=150\n",
    ")[\"choices\"][0][\"text\"].strip()\n",
    "print(original_answer1)"
   ]
  },
  {
   "cell_type": "markdown",
   "id": "6e86e37c",
   "metadata": {},
   "source": [
    "### Question 2"
   ]
  },
  {
   "cell_type": "code",
   "execution_count": 74,
   "id": "6f646989",
   "metadata": {},
   "outputs": [
    {
     "name": "stdout",
     "output_type": "stream",
     "text": [
      "The East New York Farms: UCC Youth Farm is located at 613 New Lots Avenue in East New York-New Lots, Brooklyn. According to the notes, they do not accept meat, bones, or dairy.\n"
     ]
    }
   ],
   "source": [
    "question2 = \"I want to find the 'East New York Farms: UCC Youth Farm' food scrape dropoff site, what's the location and if they accept meat and diary?\"\n",
    "custom_answer2 = answer_question(question2, text_df)\n",
    "print(custom_answer2)"
   ]
  },
  {
   "cell_type": "code",
   "execution_count": 76,
   "id": "11c07a54",
   "metadata": {},
   "outputs": [
    {
     "name": "stdout",
     "output_type": "stream",
     "text": [
      "According to the East New York Farms website, the UCC Youth Farm food scrap drop-off site is located at 613 Aberdeen Street, Brooklyn, NY. It is open from May to November on Saturdays from 9am-1pm. It accepts all food scraps, including meat and dairy.\n"
     ]
    }
   ],
   "source": [
    "original_prompt2 = f\"\"\"\n",
    "Question: \":{question2}\"\n",
    "Answer:\n",
    "\"\"\"\n",
    "original_answer2 = openai.Completion.create(\n",
    "    model=\"gpt-3.5-turbo-instruct\",\n",
    "    prompt=original_prompt2,\n",
    "    max_tokens=150\n",
    ")[\"choices\"][0][\"text\"].strip()\n",
    "print(original_answer2)\n",
    "# it doesn't accept meat"
   ]
  },
  {
   "cell_type": "code",
   "execution_count": null,
   "id": "9ac9a70d",
   "metadata": {},
   "outputs": [],
   "source": []
  }
 ],
 "metadata": {
  "kernelspec": {
   "display_name": "Python 3 (ipykernel)",
   "language": "python",
   "name": "python3"
  },
  "language_info": {
   "codemirror_mode": {
    "name": "ipython",
    "version": 3
   },
   "file_extension": ".py",
   "mimetype": "text/x-python",
   "name": "python",
   "nbconvert_exporter": "python",
   "pygments_lexer": "ipython3",
   "version": "3.9.18"
  }
 },
 "nbformat": 4,
 "nbformat_minor": 5
}
