{
 "cells": [
  {
   "metadata": {},
   "cell_type": "code",
   "outputs": [],
   "execution_count": null,
   "source": "",
   "id": "8a6dcec65e4f18e3"
  },
  {
   "metadata": {
    "ExecuteTime": {
     "end_time": "2025-08-07T13:40:18.725489Z",
     "start_time": "2025-08-07T13:40:18.591747Z"
    }
   },
   "cell_type": "code",
   "source": [
    "from torch.utils.data import Dataset\n",
    "\n",
    "# Create a toy dataset\n",
    "class NumberProductDataset(Dataset):\n",
    "    def __init__(self, data_range=(1, 10)):\n",
    "        self.numbers = list(range(data_range[0], data_range[1]))\n",
    "\n",
    "    def __getitem__(self, index):\n",
    "        number1 = self.numbers[index]\n",
    "        number2 = self.numbers[index] + 1\n",
    "        return (number1, number2), number1 * number2\n",
    "\n",
    "    def __len__(self):\n",
    "        return len(self.numbers)"
   ],
   "id": "18f1c6ccbd3b2ee9",
   "outputs": [],
   "execution_count": 2
  },
  {
   "metadata": {
    "ExecuteTime": {
     "end_time": "2025-08-07T14:04:25.901948Z",
     "start_time": "2025-08-07T14:04:25.882392Z"
    }
   },
   "cell_type": "code",
   "source": [
    "from torch.utils.data import DataLoader\n",
    "\n",
    "# Instantiate the dataset\n",
    "dataset = NumberProductDataset(data_range=(0, 5))\n",
    "\n",
    "# Create a DataLoader instance\n",
    "dataloader = DataLoader(dataset, batch_size=2, shuffle=False)\n",
    "\n",
    "# Iterating over batches\n",
    "for (num_pairs, products) in dataloader:\n",
    "    print(num_pairs, products)\n",
    "# [tensor([4, 3, 1]), tensor([5, 4, 2])] tensor([20, 12, 2])\n",
    "# [tensor([2, 0]), tensor([3, 1])] tensor([6, 0])"
   ],
   "id": "df6a15c3f70131cd",
   "outputs": [
    {
     "name": "stdout",
     "output_type": "stream",
     "text": [
      "[tensor([1, 2]), tensor([2, 3])] tensor([2, 6])\n",
      "[tensor([3, 4]), tensor([4, 5])] tensor([12, 20])\n",
      "[tensor([5]), tensor([6])] tensor([30])\n"
     ]
    }
   ],
   "execution_count": 17
  },
  {
   "metadata": {},
   "cell_type": "code",
   "outputs": [],
   "execution_count": null,
   "source": "",
   "id": "32fa1381487bcd2f"
  },
  {
   "metadata": {
    "ExecuteTime": {
     "end_time": "2025-08-07T20:41:07.007505Z",
     "start_time": "2025-08-07T20:41:06.758520Z"
    }
   },
   "cell_type": "code",
   "source": [
    "import torch\n",
    "\n",
    "torch.randint(0, 10, (64,))"
   ],
   "id": "33de6e81afe8a5f3",
   "outputs": [
    {
     "data": {
      "text/plain": [
       "tensor([7, 7, 7, 9, 8, 6, 4, 3, 3, 5, 0, 4, 3, 9, 8, 7, 2, 9, 2, 4, 1, 2, 0, 2,\n",
       "        8, 6, 1, 5, 3, 1, 7, 8, 7, 4, 6, 8, 2, 1, 6, 0, 9, 2, 9, 6, 7, 7, 6, 3,\n",
       "        2, 3, 8, 1, 7, 1, 7, 3, 8, 3, 6, 3, 3, 2, 9, 8])"
      ]
     },
     "execution_count": 19,
     "metadata": {},
     "output_type": "execute_result"
    }
   ],
   "execution_count": 19
  },
  {
   "metadata": {},
   "cell_type": "code",
   "outputs": [],
   "execution_count": null,
   "source": "",
   "id": "8f2ff9ed2e1887b2"
  }
 ],
 "metadata": {
  "kernelspec": {
   "display_name": "Python 3",
   "language": "python",
   "name": "python3"
  },
  "language_info": {
   "codemirror_mode": {
    "name": "ipython",
    "version": 2
   },
   "file_extension": ".py",
   "mimetype": "text/x-python",
   "name": "python",
   "nbconvert_exporter": "python",
   "pygments_lexer": "ipython2",
   "version": "2.7.6"
  }
 },
 "nbformat": 4,
 "nbformat_minor": 5
}
